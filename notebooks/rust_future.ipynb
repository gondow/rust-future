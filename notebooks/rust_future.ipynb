{
  "nbformat": 4,
  "nbformat_minor": 0,
  "metadata": {
    "colab": {
      "provenance": [],
      "toc_visible": true,
      "authorship_tag": "ABX9TyOiUJk50wgv7jTIMkhdtBOk",
      "include_colab_link": true
    },
    "kernelspec": {
      "name": "python3",
      "display_name": "Python 3"
    },
    "language_info": {
      "name": "python"
    }
  },
  "cells": [
    {
      "cell_type": "markdown",
      "metadata": {
        "id": "view-in-github",
        "colab_type": "text"
      },
      "source": [
        "<a href=\"https://colab.research.google.com/github/gondow/rust-future/blob/main/notebooks/rust_future.ipynb\" target=\"_parent\"><img src=\"https://colab.research.google.com/assets/colab-badge.svg\" alt=\"Open In Colab\"/></a>"
      ]
    },
    {
      "cell_type": "markdown",
      "source": [
        "# 準備"
      ],
      "metadata": {
        "id": "CvZKe6Z_ypyZ"
      }
    },
    {
      "cell_type": "markdown",
      "source": [
        "Rust環境をセットアップする（1分弱ほど時間かかります）\n",
        "- `export PATH=$HOME/.cargo/bin:$PATH`が効かないのでPythonでやってます\n",
        "- ジェネレータを使うために nightly にしてます（nightly機能は不安定なので，以下のコードがそのままでは動かなくなる可能性大です．2025年6月には動いてました．）"
      ],
      "metadata": {
        "id": "okE_aU4Ut3py"
      }
    },
    {
      "cell_type": "code",
      "source": [],
      "metadata": {
        "id": "guAYwx8iyskC"
      },
      "execution_count": null,
      "outputs": []
    },
    {
      "cell_type": "code",
      "source": [
        "!curl --proto '=https' --tlsv1.2 -sSf https://sh.rustup.rs | sh -s -- -y\n",
        "import os\n",
        "os.environ['PATH'] = f\"{os.environ['HOME']}/.cargo/bin:\" + os.environ['PATH']\n",
        "!rustup install nightly\n",
        "!rustup default nightly\n",
        "!rustc --version"
      ],
      "metadata": {
        "colab": {
          "base_uri": "https://localhost:8080/"
        },
        "id": "3aY0sM4rvVKm",
        "outputId": "0c0cf9b9-2ac7-472b-f6b8-b3c5057b6d38"
      },
      "execution_count": null,
      "outputs": [
        {
          "output_type": "stream",
          "name": "stdout",
          "text": [
            "\u001b[1minfo:\u001b[0m downloading installer\n",
            "\u001b[0m\u001b[1m\u001b[33mwarn: \u001b[0mIt looks like you have an existing rustup settings file at:\n",
            "\u001b[0m\u001b[1m\u001b[33mwarn: \u001b[0m/root/.rustup/settings.toml\n",
            "\u001b[0m\u001b[1m\u001b[33mwarn: \u001b[0mRustup will install the default toolchain as specified in the settings file,\n",
            "\u001b[0m\u001b[1m\u001b[33mwarn: \u001b[0minstead of the one inferred from the default host triple.\n",
            "\u001b[0m\u001b[1minfo: \u001b[0mprofile set to 'default'\n",
            "\u001b[0m\u001b[1minfo: \u001b[0mdefault host triple is x86_64-unknown-linux-gnu\n",
            "\u001b[0m\u001b[1m\u001b[33mwarn: \u001b[0mUpdating existing toolchain, profile choice will be ignored\n",
            "\u001b[0m\u001b[1minfo: \u001b[0msyncing channel updates for 'nightly-x86_64-unknown-linux-gnu'\n",
            "\u001b[0m\u001b[1minfo: \u001b[0mdefault toolchain set to 'nightly-x86_64-unknown-linux-gnu'\n",
            "\n",
            "  \u001b[0m\u001b[1mnightly-x86_64-unknown-linux-gnu unchanged\u001b[0m - rustc 1.90.0-nightly (bdaba05a9 2025-06-27)\n",
            "\n",
            "\u001b[0m\u001b[1m\n",
            "Rust is installed now. Great!\n",
            "\u001b[0m\n",
            "To get started you may need to restart your current shell.\n",
            "This would reload your \u001b[0m\u001b[1mPATH\u001b[0m environment variable to include\n",
            "Cargo's bin directory ($HOME/.cargo/bin).\n",
            "\n",
            "To configure your current shell, you need to source\n",
            "the corresponding \u001b[0m\u001b[1menv\u001b[0m file under $HOME/.cargo.\n",
            "\n",
            "This is usually done by running one of the following (note the leading DOT):\n",
            ". \"$HOME/.cargo/env\"            # For sh/bash/zsh/ash/dash/pdksh\n",
            "source \"$HOME/.cargo/env.fish\"  # For fish\n",
            "source $\"($nu.home-path)/.cargo/env.nu\"  # For nushell\n",
            "\u001b[0m\u001b[1minfo: \u001b[0msyncing channel updates for 'nightly-x86_64-unknown-linux-gnu'\n",
            "\n",
            "  \u001b[0m\u001b[1mnightly-x86_64-unknown-linux-gnu unchanged\u001b[0m - rustc 1.90.0-nightly (bdaba05a9 2025-06-27)\n",
            "\n",
            "\u001b[0m\u001b[1minfo: \u001b[0mchecking for self-update\n",
            "\u001b[0m\u001b[1minfo: \u001b[0musing existing install for 'nightly-x86_64-unknown-linux-gnu'\n",
            "\u001b[0m\u001b[1minfo: \u001b[0mdefault toolchain set to 'nightly-x86_64-unknown-linux-gnu'\n",
            "\n",
            "  \u001b[0m\u001b[1mnightly-x86_64-unknown-linux-gnu unchanged\u001b[0m - rustc 1.90.0-nightly (bdaba05a9 2025-06-27)\n",
            "\n",
            "rustc 1.90.0-nightly (bdaba05a9 2025-06-27)\n"
          ]
        }
      ]
    },
    {
      "cell_type": "markdown",
      "source": [
        "ファイル `hello.rs` を作成する"
      ],
      "metadata": {
        "id": "9dE-eYgOyT69"
      }
    },
    {
      "cell_type": "code",
      "source": [
        "%%writefile hello.rs\n",
        "fn main() {\n",
        "    println!(\"Hello, world!\");\n",
        "}"
      ],
      "metadata": {
        "colab": {
          "base_uri": "https://localhost:8080/"
        },
        "id": "XeshDODNx0g5",
        "outputId": "7c8428cb-b692-47e5-de14-1734555c6aba"
      },
      "execution_count": null,
      "outputs": [
        {
          "output_type": "stream",
          "name": "stdout",
          "text": [
            "Writing hello.rs\n"
          ]
        }
      ]
    },
    {
      "cell_type": "markdown",
      "source": [
        "`hello.rs` をコンパイルして実行する"
      ],
      "metadata": {
        "id": "9mecpwibybBE"
      }
    },
    {
      "cell_type": "code",
      "source": [
        "!rustc hello.rs\n",
        "!./hello"
      ],
      "metadata": {
        "colab": {
          "base_uri": "https://localhost:8080/"
        },
        "id": "nsME2Qrgx2Le",
        "outputId": "e412973c-d32f-48c3-d6ce-4650e1483fc1"
      },
      "execution_count": null,
      "outputs": [
        {
          "output_type": "stream",
          "name": "stdout",
          "text": [
            "Hello, world!\n"
          ]
        }
      ]
    },
    {
      "cell_type": "markdown",
      "source": [
        "# Iterator"
      ],
      "metadata": {
        "id": "is8YZvYI5YGq"
      }
    },
    {
      "cell_type": "code",
      "source": [
        "%%writefile iterator.rs\n",
        "fn main() {\n",
        "    for i in 0..3 {\n",
        "        println!(\"{}\", i);\n",
        "    }\n",
        "}"
      ],
      "metadata": {
        "colab": {
          "base_uri": "https://localhost:8080/"
        },
        "id": "sKN0e15o6cRv",
        "outputId": "fd2cd9dc-ca0d-4a1c-d6ff-058640191582"
      },
      "execution_count": null,
      "outputs": [
        {
          "output_type": "stream",
          "name": "stdout",
          "text": [
            "Writing iterator.rs\n"
          ]
        }
      ]
    },
    {
      "cell_type": "code",
      "source": [
        "!rustc iterator.rs\n",
        "!./iterator"
      ],
      "metadata": {
        "colab": {
          "base_uri": "https://localhost:8080/"
        },
        "id": "erEBxfq96vi2",
        "outputId": "83947558-6774-458b-9a26-16f54c136702"
      },
      "execution_count": null,
      "outputs": [
        {
          "output_type": "stream",
          "name": "stdout",
          "text": [
            "0\n",
            "1\n",
            "2\n"
          ]
        }
      ]
    },
    {
      "cell_type": "markdown",
      "source": [
        "`0..3`はイテレータ．イテレータは`next()`を呼ぶと「次の値」をオプショナル型として返す．"
      ],
      "metadata": {
        "id": "KKm7t2e8-ur2"
      }
    },
    {
      "cell_type": "code",
      "source": [
        "%%writefile generator2.rs\n",
        "fn main() {\n",
        "   let mut iter = 0..3;\n",
        "   println!(\"{:?}\", iter.next()); // Some(0)\n",
        "   println!(\"{:?}\", iter.next()); // Some(1)\n",
        "   println!(\"{:?}\", iter.next()); // Some(2)\n",
        "   println!(\"{:?}\", iter.next()); // None\n",
        "}"
      ],
      "metadata": {
        "colab": {
          "base_uri": "https://localhost:8080/"
        },
        "id": "4_wFtChaCmv3",
        "outputId": "f2e8ddf6-7970-462f-ca46-730eb5bd8bfc"
      },
      "execution_count": null,
      "outputs": [
        {
          "output_type": "stream",
          "name": "stdout",
          "text": [
            "Writing generator2.rs\n"
          ]
        }
      ]
    },
    {
      "cell_type": "code",
      "source": [
        "!rustc generator2.rs\n",
        "!./generator2"
      ],
      "metadata": {
        "colab": {
          "base_uri": "https://localhost:8080/"
        },
        "id": "d2SVplAuCvPA",
        "outputId": "de0a49e4-311a-4b3e-89f6-219a8c867bb4"
      },
      "execution_count": null,
      "outputs": [
        {
          "output_type": "stream",
          "name": "stdout",
          "text": [
            "Some(0)\n",
            "Some(1)\n",
            "Some(2)\n",
            "None\n"
          ]
        }
      ]
    },
    {
      "cell_type": "markdown",
      "source": [
        "自分でもイテレータを定義できる．以下はCounterイテレータの定義例．途中でreturnして値を返して，次にnext()を呼ばれる時，イテレータ構造体の`count`の値が状態として保存されているので，順番にインクリメントされた値が返る．"
      ],
      "metadata": {
        "id": "5uH6AKePMh2w"
      }
    },
    {
      "cell_type": "code",
      "source": [
        "%%writefile counter.rs\n",
        "struct Counter {\n",
        "    count: usize,\n",
        "}\n",
        "impl Iterator for Counter {\n",
        "    type Item = usize;\n",
        "    fn next(&mut self) -> Option<usize> {\n",
        "        if self.count < 3 {\n",
        "            self.count += 1;\n",
        "            Some(self.count)\n",
        "        } else {\n",
        "            None\n",
        "        }\n",
        "    }\n",
        "}\n",
        "fn main() {\n",
        "    let mut counter = Counter {count: 0};\n",
        "    println!(\"{:?}\", counter.next ()); // Some(1)\n",
        "    println!(\"{:?}\", counter.next ()); // Some(2)\n",
        "    println!(\"{:?}\", counter.next ()); // Some(3)\n",
        "    println!(\"{:?}\", counter.next ()); // None\n",
        "}"
      ],
      "metadata": {
        "colab": {
          "base_uri": "https://localhost:8080/"
        },
        "id": "2JgEVBSEL0ns",
        "outputId": "52f32902-24c5-4c46-c31e-3f4d7321a587"
      },
      "execution_count": null,
      "outputs": [
        {
          "output_type": "stream",
          "name": "stdout",
          "text": [
            "Overwriting counter.rs\n"
          ]
        }
      ]
    },
    {
      "cell_type": "code",
      "source": [
        "!rustc counter.rs\n",
        "!./counter"
      ],
      "metadata": {
        "colab": {
          "base_uri": "https://localhost:8080/"
        },
        "id": "4yHN5wPoL5wn",
        "outputId": "92118c0c-1bff-4332-dae6-1cb5e346a733"
      },
      "execution_count": null,
      "outputs": [
        {
          "output_type": "stream",
          "name": "stdout",
          "text": [
            "Some(1)\n",
            "Some(2)\n",
            "Some(3)\n",
            "None\n"
          ]
        }
      ]
    },
    {
      "cell_type": "code",
      "source": [],
      "metadata": {
        "id": "uppi-DfYOzPN"
      },
      "execution_count": null,
      "outputs": []
    },
    {
      "cell_type": "markdown",
      "source": [
        "Iteratorの定義は↓こうなっている．\n",
        "```\n",
        "pub trait Iterator {\n",
        "    type Item;\n",
        "    fn next(&mut self) -> Option<Self::Item>;\n",
        "    // 他にもたくさん\n",
        "}\n",
        "```\n",
        "詳しくは[公式の説明](https://doc.rust-lang.org/std/iter/trait.Iterator.html)を見てね．"
      ],
      "metadata": {
        "id": "1Ds7oJKzObiZ"
      }
    },
    {
      "cell_type": "markdown",
      "source": [
        "# Generator (Coroutine)"
      ],
      "metadata": {
        "id": "5N6Q-r5V4Wif"
      }
    },
    {
      "cell_type": "code",
      "source": [
        "%%writefile generator.rs\n",
        "#![feature(coroutines, coroutine_trait)]\n",
        "#![feature(stmt_expr_attributes)]\n",
        "use std::pin::Pin;\n",
        "use std::ops::{Coroutine};\n",
        "fn main() {\n",
        "    let mut coro = #[coroutine] || {\n",
        "        println!(\"Start\");\n",
        "        yield 1;\n",
        "        println!(\"Middle\");\n",
        "        yield 2;\n",
        "        println!(\"End\");\n",
        "        return 3;\n",
        "    };\n",
        "    let mut coro = Pin::new(&mut coro);\n",
        "    println!(\"{:?}\", coro.as_mut().resume(())); // Yielded(1)\n",
        "    println!(\"{:?}\", coro.as_mut().resume(())); // Yielded(2)\n",
        "    println!(\"{:?}\", coro.as_mut().resume(())); // Complete(3)\n",
        "}"
      ],
      "metadata": {
        "colab": {
          "base_uri": "https://localhost:8080/"
        },
        "id": "vedWD9dW4pn4",
        "outputId": "03d58dfe-afa2-4ecc-ab24-13b7eebaf231"
      },
      "execution_count": null,
      "outputs": [
        {
          "output_type": "stream",
          "name": "stdout",
          "text": [
            "Overwriting generator.rs\n"
          ]
        }
      ]
    },
    {
      "cell_type": "code",
      "source": [
        "!rustc generator.rs\n",
        "!./generator"
      ],
      "metadata": {
        "colab": {
          "base_uri": "https://localhost:8080/"
        },
        "id": "xhbUHisW4ySm",
        "outputId": "45fa9679-46eb-4836-e3e8-959c5d8e9e3f"
      },
      "execution_count": null,
      "outputs": [
        {
          "output_type": "stream",
          "name": "stdout",
          "text": [
            "Start\n",
            "Yielded(1)\n",
            "Middle\n",
            "Yielded(2)\n",
            "End\n",
            "Complete(3)\n"
          ]
        }
      ]
    },
    {
      "cell_type": "markdown",
      "source": [
        "ジェネレータ（コルーチン）とは\n",
        "- 状態を保存して途中で一時停止(yield)して値を返し，後から再開(resume)できる関数（コルーチン）\n",
        "- 上記の例では`yield 1;`で値1を返すと，次に`resume`された時に「`yield 1;`の直後」から実行が再開される\n",
        "- `yield`すると，（どこまで実行したかの状態を保存した後で）制御はジェネレータの呼び出し側に戻る\n",
        "- ジェネレータでは`yield`を使えるが，イテレータでは使えない\n",
        "- 現在，ジェネレータは非推奨機能であり，`async/await`を使うことが推奨されている（なじぇ！？→自己参照でunsafeになるので`async/await`で抽象化（隠蔽）したいらしい）"
      ],
      "metadata": {
        "id": "xlY1zN_3grUk"
      }
    },
    {
      "cell_type": "markdown",
      "source": [
        "ジェネレータとイテレータの主な違い：\n",
        "\n",
        "| 観点           | イテレータ（`Iterator`）                  | ジェネレータ（`Coroutine` / 旧 `Generator`）                   |   |                                     |\n",
        "| ------------ | ---------------------------------- | ----------------------------------------------------- | - | ----------------------------------- |\n",
        "| 定義方法         | `struct` + `impl Iterator for ...` | \\`let g =                                             \\|\\| { yield ...; return ... };\\`（クロージャ） |\n",
        "| トレイト名        | `Iterator`                         | `Coroutine`（以前は `Generator`）                          |   |                                     |\n",
        "| メソッド名        | `next()`                           | `resume(arg)`                                         |   |                                     |\n",
        "| 戻り値の型        | `Option<T>`                        | `CoroutineState<Y, R>` (`Yielded(Y)` / `Complete(R)`) |   |                                     |\n",
        "| 状態の保存        | ユーザーが構造体で管理する                      | Rust ランタイムが自動的に状態（中断点）を保存                             |   |                                     |\n",
        "| 停止と再開        | 自前で実装（ループ・分岐）                      | `yield` と `resume` による自動停止・再開                         |   |                                     |\n",
        "| 双方向通信（値の送受信） | 基本不可（値を返すだけ）                       | `resume(arg)` → `yield` で双方向通信可能                      |   |                                     |\n",
        "| 実装の容易さ       | 明示的なステートマシンを書く必要がある                | `yield` を書くだけで状態機械を自動生成できる                            |   |                                     |\n",
        "| 安定性          | ✅ 安定版で使える                          | 🚧 Nightly 限定。`#![feature(coroutines)]` 必須            |   |                                     |\n",
        "| 用途           | イテレーション（for文など）                    | 複雑な制御・状態遷移・非同期処理の構築など                                 |   |                                     |\n"
      ],
      "metadata": {
        "id": "rIvySEaEgGDL"
      }
    },
    {
      "cell_type": "markdown",
      "source": [],
      "metadata": {
        "id": "f_0Z7Z7p4o8L"
      }
    },
    {
      "cell_type": "markdown",
      "source": [
        "# Future"
      ],
      "metadata": {
        "id": "5hqb7sAo3L9_"
      }
    },
    {
      "cell_type": "markdown",
      "source": [
        "`Future`は（都合上，まずは単純化した`SimpleFuture`を使う）\n",
        "- 実行中・停止中・完了済みなどの「状態を持つ」\n",
        "- 関数`poll`を持つ．内部的にジェネレータを持っていて，`yield`すると（つまり計算が完全に終了しないと），`Poll<T>`型の`Pending`を返す\n",
        "- 一方，`poll`が`return`すると（つまり計算が完全に終了すると），`Poll<T>`型の`Ready(T)`を返す\n",
        "- 本来は非同期な状態を扱うが，単純化したSimpleFutureは同期的な状態しか扱えない\n",
        "  - 外から`poll`が呼ばれて（つまりポーリングして），同期的に計算が進む\n",
        "  - `poll`の第2引数の`Context`経由で`waker`が渡されると非同期な状態（非同期的に`poll`を叩くこと）が可能になる"
      ],
      "metadata": {
        "id": "ehADzT3ckNHV"
      }
    },
    {
      "cell_type": "code",
      "source": [
        "trait SimpleFuture {\n",
        "    type Output;\n",
        "    fn poll(&mut self) -> Poll<Self::Output>;\n",
        "}\n",
        "enum Poll<T> {\n",
        "    Ready(T),\n",
        "    Pending,\n",
        "}"
      ],
      "metadata": {
        "id": "DPvDdWKqHQHU"
      },
      "execution_count": null,
      "outputs": []
    },
    {
      "cell_type": "code",
      "source": [
        "%%writefile simplefuture.rs\n",
        "#![feature(coroutines, coroutine_trait)]\n",
        "#![feature(stmt_expr_attributes)]\n",
        "\n",
        "use std::ops::{Coroutine, CoroutineState};\n",
        "use std::pin::Pin;\n",
        "use std::task::Poll;\n",
        "use std::thread::sleep;\n",
        "use std::time::Duration;\n",
        "struct SimpleFuture {\n",
        "    state: u8,\n",
        "    pinned: Pin<Box<dyn Coroutine<Yield = u8, Return = u8>>>\n",
        "}\n",
        "type SimpleOutput = &'static str;\n",
        "impl SimpleFuture {\n",
        "    fn new() -> Self {\n",
        "       let coro = #[coroutine] || {\n",
        "           println!(\"Start\");\n",
        "           yield 1;\n",
        "           println!(\"Middle\");\n",
        "           yield 2;\n",
        "           println!(\"End\");\n",
        "           return 3;\n",
        "        };\n",
        "        Self { state: 0, pinned: Box::pin(coro), }\n",
        "    }\n",
        "    fn poll(mut self: Pin<&mut Self>) -> Poll<SimpleOutput> {\n",
        "        match self.pinned.as_mut().resume(()) {\n",
        "            CoroutineState::Yielded(val) => {\n",
        "                println!(\"Yielded: {}->{}\", self.state, val);\n",
        "                self.state = val;\n",
        "                Poll::Pending\n",
        "            }\n",
        "            CoroutineState::Complete(val) => {\n",
        "                println!(\"Complete: {}->{}\", self.state, val);\n",
        "                self.state = val;\n",
        "                Poll::Ready(\"Done\")\n",
        "            }\n",
        "        }\n",
        "    }\n",
        "}\n",
        "\n",
        "fn main() {\n",
        "    let mut fut = SimpleFuture::new();\n",
        "    let mut pinned = unsafe { Pin::new_unchecked(&mut fut) };\n",
        "\n",
        "    loop {\n",
        "        println!(\"loop...\");\n",
        "        match pinned.as_mut().poll() { // pollを呼ぶ\n",
        "            Poll::Ready(val) => {\n",
        "                println!(\"Coroutine returned: {}\", val);\n",
        "                break; // 計算が完了したらループを抜ける\n",
        "            }\n",
        "            Poll::Pending => {\n",
        "                println!(\"Coroutine yielded\");\n",
        "                // 計算未完了なので，2秒待ってから次のループへ\n",
        "            }\n",
        "        }\n",
        "        sleep(Duration::from_secs(2));\n",
        "    }\n",
        "}"
      ],
      "metadata": {
        "id": "ygfPfwtYmeHo",
        "outputId": "45a92aee-9c0b-4f09-ef4d-3067f4333c65",
        "colab": {
          "base_uri": "https://localhost:8080/"
        }
      },
      "execution_count": 16,
      "outputs": [
        {
          "output_type": "stream",
          "name": "stdout",
          "text": [
            "Writing simplefuture.rs\n"
          ]
        }
      ]
    },
    {
      "cell_type": "code",
      "source": [
        "!rustc simplefuture.rs\n",
        "!./simplefuture"
      ],
      "metadata": {
        "id": "QomcG764m1ca",
        "outputId": "e8de654d-d65d-48cb-aad6-a5ff92669a66",
        "colab": {
          "base_uri": "https://localhost:8080/"
        }
      },
      "execution_count": 17,
      "outputs": [
        {
          "output_type": "stream",
          "name": "stdout",
          "text": [
            "loop...\n",
            "Start\n",
            "Yielded: 0->1\n",
            "Coroutine yielded\n",
            "loop...\n",
            "Middle\n",
            "Yielded: 1->2\n",
            "Coroutine yielded\n",
            "loop...\n",
            "End\n",
            "Complete: 2->3\n",
            "Coroutine returned: Done\n"
          ]
        }
      ]
    },
    {
      "cell_type": "markdown",
      "source": [
        "# async/await"
      ],
      "metadata": {
        "id": "Wj9xuNl7n7CP"
      }
    },
    {
      "cell_type": "markdown",
      "source": [
        "`async/await`とは\n",
        "- `async`は非同期な処理（`Future`）を返す関数やブロック\n",
        "- `await`は「その処理」の完了を待つ（けど，内部的には`yield`すると，`poll`を呼んだ側に制御が戻るので待ってない）"
      ],
      "metadata": {
        "id": "u0AioOEXoKC5"
      }
    },
    {
      "cell_type": "code",
      "source": [
        "async fn foo () {\n",
        "    ...\n",
        "}"
      ],
      "metadata": {
        "id": "6jBQYNfS26dr"
      },
      "execution_count": null,
      "outputs": []
    },
    {
      "cell_type": "markdown",
      "source": [
        "は以下のコードと同じです．"
      ],
      "metadata": {
        "id": "1t0lGnQo3QBT"
      }
    },
    {
      "cell_type": "code",
      "source": [
        "fn foo () -> impl Future<Output = ()> {\n",
        "    async { ... }\n",
        "}"
      ],
      "metadata": {
        "id": "hZZrFn4S3TJ0"
      },
      "execution_count": null,
      "outputs": []
    },
    {
      "cell_type": "markdown",
      "source": [
        "`async`ブロックは\n",
        "- `Future`を返します．`Future`の中にはジェネレータが暗黙的に入ってます．\n",
        "- 返した`Future`は他の誰か（エグゼキュータ）が`poll`することで実行が進みます．"
      ],
      "metadata": {
        "id": "67bVtOvj3hJ3"
      }
    },
    {
      "cell_type": "markdown",
      "source": [
        "`future.await`はざっくり次の擬似コードと同じです．\n",
        "- 繰り返し実行して`Pending`の時は`yield`し（実際には`poll`内部で`yield`してるはず），`Ready(val)`ならループを抜けて，`await`の次に制御が進みます．\n",
        "- ループ中で`yield`した際は`poll`を呼び出した人に制御が戻ります．"
      ],
      "metadata": {
        "id": "KA7kKaVx4pia"
      }
    },
    {
      "cell_type": "code",
      "source": [
        "loop {\n",
        "    match future.poll () {\n",
        "        Poll::Ready(val) => { break; }\n",
        "        Poll::Pending => { yield; }\n",
        "    }\n",
        "}"
      ],
      "metadata": {
        "id": "EgdzPu474HU2"
      },
      "execution_count": null,
      "outputs": []
    },
    {
      "cell_type": "markdown",
      "source": [
        "`simplefuture.rs`を`async/await`を使って書き直すと，おおよそ以下の`foo/main.rs`となります．\n",
        "- `yield`するにはFutureが必要なので，ここでは`tokio::task::yield_now()`が返すFutureに`await`しています．\n",
        "- 見て分かる通り，`async/await`を使うとコードがシンプルになります．"
      ],
      "metadata": {
        "id": "OLNYiVuL5Tww"
      }
    },
    {
      "cell_type": "code",
      "source": [
        "!rm -rf foo\n",
        "!cargo new foo\n",
        "!cd foo; rm -rf src"
      ],
      "metadata": {
        "id": "ZCje8bG33mIT",
        "outputId": "22771560-e253-4520-c4f0-718abe1bab3f",
        "colab": {
          "base_uri": "https://localhost:8080/"
        }
      },
      "execution_count": 44,
      "outputs": [
        {
          "output_type": "stream",
          "name": "stdout",
          "text": [
            "\u001b[1m\u001b[32m    Creating\u001b[0m binary (application) `foo` package\n",
            "\u001b[1m\u001b[36mnote\u001b[0m\u001b[1m:\u001b[0m see more `Cargo.toml` keys and their definitions at https://doc.rust-lang.org/cargo/reference/manifest.html\n"
          ]
        }
      ]
    },
    {
      "cell_type": "code",
      "source": [
        "%%writefile foo/Cargo.toml\n",
        "[package]\n",
        "name = \"foo\"\n",
        "version = \"0.1.0\"\n",
        "edition = \"2024\"\n",
        "[[bin]]\n",
        "name = \"main\"\n",
        "path = \"main.rs\"\n",
        "[dependencies]\n",
        "tokio = { version = \"1\", features = [\"full\"] }\n",
        "mini-redis = \"0.4\""
      ],
      "metadata": {
        "id": "EDKDqJQv6SZl",
        "outputId": "2ae25063-d8b6-4a1e-d106-d0d55cca9e7a",
        "colab": {
          "base_uri": "https://localhost:8080/"
        }
      },
      "execution_count": 45,
      "outputs": [
        {
          "output_type": "stream",
          "name": "stdout",
          "text": [
            "Overwriting foo/Cargo.toml\n"
          ]
        }
      ]
    },
    {
      "cell_type": "code",
      "source": [
        "%%writefile foo/main.rs\n",
        "use tokio::time::Duration;\n",
        "use tokio::time::sleep;\n",
        "async fn simple_future() -> &'static str {\n",
        "    println!(\"Start\");\n",
        "    println!(\"Yielded: 0 -> 1\");\n",
        "    tokio::task::yield_now().await;\n",
        "    sleep(Duration::from_secs(2)).await;\n",
        "\n",
        "    println!(\"Middle\");\n",
        "    println!(\"Yielded: 1 -> 2\");\n",
        "    tokio::task::yield_now().await;\n",
        "    sleep(Duration::from_secs(2)).await;\n",
        "\n",
        "    println!(\"End\");\n",
        "    tokio::task::yield_now().await;\n",
        "    println!(\"Complete: 2 -> 3\");\n",
        "\n",
        "    \"Done\"\n",
        "}\n",
        "#[tokio::main]\n",
        "async fn main() {\n",
        "    let result = simple_future().await;\n",
        "    println!(\"Coroutine returned: {}\", result);\n",
        "}"
      ],
      "metadata": {
        "id": "SobNhyaJ6-t-",
        "outputId": "9fe95871-76e3-4b0a-ab56-7fce6846652b",
        "colab": {
          "base_uri": "https://localhost:8080/"
        }
      },
      "execution_count": 46,
      "outputs": [
        {
          "output_type": "stream",
          "name": "stdout",
          "text": [
            "Writing foo/main.rs\n"
          ]
        }
      ]
    },
    {
      "cell_type": "code",
      "source": [
        "!cd foo;  cargo add tokio --features full; cargo build; cargo run"
      ],
      "metadata": {
        "id": "cdRVD9rA7K2U",
        "outputId": "6b60ab08-d4b3-4e59-9ad3-e98a57ad1a85",
        "colab": {
          "base_uri": "https://localhost:8080/"
        }
      },
      "execution_count": 47,
      "outputs": [
        {
          "output_type": "stream",
          "name": "stdout",
          "text": [
            "ls: cannot access 'target': No such file or directory\n",
            "[package]\n",
            "name = \"foo\"\n",
            "version = \"0.1.0\"\n",
            "edition = \"2024\"\n",
            "[[bin]]\n",
            "name = \"main\"\n",
            "path = \"main.rs\"\n",
            "[dependencies]\n",
            "tokio = { version = \"1\", features = [\"full\"] }\n",
            "mini-redis = \"0.4\"\n",
            "\u001b[1m\u001b[32m    Updating\u001b[0m crates.io index\n",
            "\u001b[1m\u001b[32m      Adding\u001b[0m tokio v1 to dependencies\n",
            "             Features as of v1.0.1:\n",
            "             \u001b[1m\u001b[32m+\u001b[0m bytes\n",
            "             \u001b[1m\u001b[32m+\u001b[0m fs\n",
            "             \u001b[1m\u001b[32m+\u001b[0m full\n",
            "             \u001b[1m\u001b[32m+\u001b[0m io-std\n",
            "             \u001b[1m\u001b[32m+\u001b[0m io-util\n",
            "             \u001b[1m\u001b[32m+\u001b[0m libc\n",
            "             \u001b[1m\u001b[32m+\u001b[0m macros\n",
            "             \u001b[1m\u001b[32m+\u001b[0m memchr\n",
            "             \u001b[1m\u001b[32m+\u001b[0m net\n",
            "             \u001b[1m\u001b[32m+\u001b[0m num_cpus\n",
            "             \u001b[1m\u001b[32m+\u001b[0m once_cell\n",
            "             \u001b[1m\u001b[32m+\u001b[0m parking_lot\n",
            "             \u001b[1m\u001b[32m+\u001b[0m process\n",
            "             \u001b[1m\u001b[32m+\u001b[0m rt\n",
            "             \u001b[1m\u001b[32m+\u001b[0m rt-multi-thread\n",
            "             \u001b[1m\u001b[32m+\u001b[0m signal\n",
            "             \u001b[1m\u001b[32m+\u001b[0m signal-hook-registry\n",
            "             \u001b[1m\u001b[32m+\u001b[0m sync\n",
            "             \u001b[1m\u001b[32m+\u001b[0m time\n",
            "             \u001b[1m\u001b[32m+\u001b[0m tokio-macros\n",
            "             \u001b[1m\u001b[31m-\u001b[0m mio\n",
            "             \u001b[1m\u001b[31m-\u001b[0m test-util\n",
            "             \u001b[1m\u001b[31m-\u001b[0m tracing\n",
            "             \u001b[1m\u001b[31m-\u001b[0m winapi\n",
            "\u001b[1m\u001b[32m    Updating\u001b[0m crates.io index\n",
            "\u001b[1m\u001b[32m     Locking\u001b[0m 117 packages to latest Rust 1.90.0-nightly compatible versions\n",
            "\u001b[1m\u001b[32m   Compiling\u001b[0m proc-macro2 v1.0.95\n",
            "\u001b[1m\u001b[32m   Compiling\u001b[0m unicode-ident v1.0.18\n",
            "\u001b[1m\u001b[32m   Compiling\u001b[0m autocfg v1.5.0\n",
            "\u001b[1m\u001b[32m   Compiling\u001b[0m libc v0.2.174\n",
            "\u001b[1m\u001b[32m   Compiling\u001b[0m quote v1.0.40\n",
            "\u001b[1m\u001b[32m   Compiling\u001b[0m syn v2.0.104\n",
            "\u001b[1m\u001b[32m   Compiling\u001b[0m version_check v0.9.5\n",
            "\u001b[1m\u001b[32m   Compiling\u001b[0m cfg-if v1.0.1\n",
            "\u001b[1m\u001b[32m   Compiling\u001b[0m pin-project-lite v0.2.16\n",
            "\u001b[1m\u001b[32m   Compiling\u001b[0m once_cell v1.21.3\n",
            "\u001b[1m\u001b[32m   Compiling\u001b[0m tracing-core v0.1.34\n",
            "\u001b[1m\u001b[32m   Compiling\u001b[0m proc-macro-error-attr v1.0.4\n",
            "\u001b[1m\u001b[32m   Compiling\u001b[0m lock_api v0.4.13\n",
            "\u001b[1m\u001b[32m   Compiling\u001b[0m num-traits v0.2.19\n",
            "\u001b[1m\u001b[32m   Compiling\u001b[0m smallvec v1.15.1\n",
            "\u001b[1m\u001b[32m   Compiling\u001b[0m syn v1.0.109\n",
            "\u001b[1m\u001b[32m   Compiling\u001b[0m serde v1.0.219\n",
            "\u001b[1m\u001b[32m   Compiling\u001b[0m parking_lot_core v0.9.11\n",
            "\u001b[1m\u001b[32m   Compiling\u001b[0m proc-macro-error v1.0.4\n",
            "\u001b[1m\u001b[32m   Compiling\u001b[0m scopeguard v1.2.0\n",
            "\u001b[1m\u001b[32m   Compiling\u001b[0m tracing-attributes v0.1.30\n",
            "\u001b[1m\u001b[32m   Compiling\u001b[0m unicode-segmentation v1.12.0\n",
            "\u001b[1m\u001b[32m   Compiling\u001b[0m regex-syntax v0.8.5\n",
            "\u001b[1m\u001b[32m   Compiling\u001b[0m ansi_term v0.12.1\n",
            "\u001b[1m\u001b[32m   Compiling\u001b[0m lazy_static v1.5.0\n",
            "\u001b[1m\u001b[32m   Compiling\u001b[0m serde_json v1.0.140\n",
            "\u001b[1m\u001b[32m   Compiling\u001b[0m unicode-width v0.1.14\n",
            "\u001b[1m\u001b[32m   Compiling\u001b[0m regex-syntax v0.6.29\n",
            "\u001b[1m\u001b[32m   Compiling\u001b[0m textwrap v0.11.0\n",
            "\u001b[1m\u001b[32m   Compiling\u001b[0m regex-automata v0.4.9\n",
            "\u001b[1m\u001b[32m   Compiling\u001b[0m regex-automata v0.1.10\n",
            "\u001b[1m\u001b[32m   Compiling\u001b[0m heck v0.3.3\n",
            "\u001b[1m\u001b[32m   Compiling\u001b[0m parking_lot v0.12.4\n",
            "\u001b[1m\u001b[32m   Compiling\u001b[0m tracing v0.1.41\n",
            "\u001b[1m\u001b[32m   Compiling\u001b[0m tokio-macros v2.5.0\n",
            "\u001b[1m\u001b[32m   Compiling\u001b[0m pin-project-internal v1.1.10\n",
            "\u001b[1m\u001b[32m   Compiling\u001b[0m mio v1.0.4\n",
            "\u001b[1m\u001b[32m   Compiling\u001b[0m socket2 v0.5.10\n",
            "\u001b[1m\u001b[32m   Compiling\u001b[0m signal-hook-registry v1.4.5\n",
            "\u001b[1m\u001b[32m   Compiling\u001b[0m atty v0.2.14\n",
            "\u001b[1m\u001b[32m   Compiling\u001b[0m memchr v2.7.5\n",
            "\u001b[1m\u001b[32m   Compiling\u001b[0m iana-time-zone v0.1.63\n",
            "\u001b[1m\u001b[32m   Compiling\u001b[0m log v0.4.27\n",
            "\u001b[1m\u001b[32m   Compiling\u001b[0m vec_map v0.8.2\n",
            "\u001b[1m\u001b[32m   Compiling\u001b[0m bitflags v1.3.2\n",
            "\u001b[1m\u001b[32m   Compiling\u001b[0m futures-core v0.3.31\n",
            "\u001b[1m\u001b[32m   Compiling\u001b[0m itoa v1.0.15\n",
            "\u001b[1m\u001b[32m   Compiling\u001b[0m ryu v1.0.20\n",
            "\u001b[1m\u001b[32m   Compiling\u001b[0m strsim v0.8.0\n",
            "\u001b[1m\u001b[32m   Compiling\u001b[0m bytes v1.10.1\n",
            "\u001b[1m\u001b[32m   Compiling\u001b[0m clap v2.34.0\n",
            "\u001b[1m\u001b[32m   Compiling\u001b[0m tokio v1.45.1\n",
            "\u001b[1m\u001b[32m   Compiling\u001b[0m tracing-log v0.1.4\n",
            "\u001b[1m\u001b[32m   Compiling\u001b[0m chrono v0.4.41\n",
            "\u001b[1m\u001b[32m   Compiling\u001b[0m pin-project v1.1.10\n",
            "\u001b[1m\u001b[32m   Compiling\u001b[0m structopt-derive v0.4.18\n",
            "\u001b[1m\u001b[32m   Compiling\u001b[0m matchers v0.0.1\n",
            "\u001b[1m\u001b[32m   Compiling\u001b[0m regex v1.11.1\n",
            "\u001b[1m\u001b[32m   Compiling\u001b[0m sharded-slab v0.1.7\n",
            "\u001b[1m\u001b[32m   Compiling\u001b[0m tracing-serde v0.1.3\n",
            "\u001b[1m\u001b[32m   Compiling\u001b[0m async-stream-impl v0.3.6\n",
            "\u001b[1m\u001b[32m   Compiling\u001b[0m thread_local v1.1.9\n",
            "\u001b[1m\u001b[32m   Compiling\u001b[0m tracing-subscriber v0.2.25\n",
            "\u001b[1m\u001b[32m   Compiling\u001b[0m async-stream v0.3.6\n",
            "\u001b[1m\u001b[32m   Compiling\u001b[0m structopt v0.3.26\n",
            "\u001b[1m\u001b[32m   Compiling\u001b[0m tracing-futures v0.2.5\n",
            "\u001b[1m\u001b[32m   Compiling\u001b[0m tokio-stream v0.1.17\n",
            "\u001b[1m\u001b[32m   Compiling\u001b[0m atoi v0.3.3\n",
            "\u001b[1m\u001b[32m   Compiling\u001b[0m mini-redis v0.4.1\n",
            "\u001b[1m\u001b[32m   Compiling\u001b[0m foo v0.1.0 (/content/foo)\n",
            "\u001b[1m\u001b[32m    Finished\u001b[0m `dev` profile [unoptimized + debuginfo] target(s) in 1m 01s\n",
            "\u001b[1m\u001b[32m    Finished\u001b[0m `dev` profile [unoptimized + debuginfo] target(s) in 0.10s\n",
            "\u001b[1m\u001b[32m     Running\u001b[0m `target/debug/main`\n",
            "Start\n",
            "Yielded: 0 -> 1\n",
            "Middle\n",
            "Yielded: 1 -> 2\n",
            "End\n",
            "Complete: 2 -> 3\n",
            "Coroutine returned: Done\n"
          ]
        }
      ]
    },
    {
      "cell_type": "markdown",
      "source": [
        "ここまでの話はすべて**同期的**でした．\n",
        "- `poll`を呼び出す人（エグゼキュータ）がどのタイミングでどのくらいの頻度で`poll`を呼び出すかは，エグゼキュータの実装依存です．\n",
        "- 頻繁に`poll`を呼ぶと（遅延は減りますが）空振りが多くなりCPUの無駄遣いになります\n",
        "- 一方，頻度を下げると，次の実行準備ができてから実行されるまでの遅延時間が増えます\n",
        "\n",
        "これを避けるには「イベントが発生したら，それに応じて「`poll`してね」とお願いしてもらうのが良いわけで，それが`wake`です．\n",
        "- （エグゼキュータでもアプリでもなく）非同期イベントを監視してる人（例：タイマー，I/O）が`wake`を呼ぶ\n",
        "- `wake`すると，エグゼキュータが`poll`を呼ぶ\n",
        "\n",
        "| 処理方式            | 特徴                              |\n",
        "| --------------- | ------------------------------- |\n",
        "| **ポーリング**       | イベントが起きているかを何度もチェック（CPU浪費、応答遅延） |\n",
        "| **非同期（イベント駆動）** | イベントが「起きたときにだけ」通知が来る（効率的、即応）    |\n"
      ],
      "metadata": {
        "id": "9DD_hZwSIQWQ"
      }
    },
    {
      "cell_type": "code",
      "source": [],
      "metadata": {
        "id": "-DtGmvC0J5nh"
      },
      "execution_count": null,
      "outputs": []
    },
    {
      "cell_type": "code",
      "source": [],
      "metadata": {
        "id": "D3aLoeBbKzK7"
      },
      "execution_count": null,
      "outputs": []
    }
  ]
}