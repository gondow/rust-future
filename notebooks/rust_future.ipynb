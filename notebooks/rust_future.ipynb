{
  "nbformat": 4,
  "nbformat_minor": 0,
  "metadata": {
    "colab": {
      "provenance": [],
      "toc_visible": true,
      "authorship_tag": "ABX9TyPgOF5CSWJo/tuie98CMArg",
      "include_colab_link": true
    },
    "kernelspec": {
      "name": "python3",
      "display_name": "Python 3"
    },
    "language_info": {
      "name": "python"
    }
  },
  "cells": [
    {
      "cell_type": "markdown",
      "metadata": {
        "id": "view-in-github",
        "colab_type": "text"
      },
      "source": [
        "<a href=\"https://colab.research.google.com/github/gondow/rust-future/blob/main/notebooks/rust_future.ipynb\" target=\"_parent\"><img src=\"https://colab.research.google.com/assets/colab-badge.svg\" alt=\"Open In Colab\"/></a>"
      ]
    },
    {
      "cell_type": "markdown",
      "source": [
        "# 準備"
      ],
      "metadata": {
        "id": "CvZKe6Z_ypyZ"
      }
    },
    {
      "cell_type": "markdown",
      "source": [
        "Rust環境をセットアップする（1分弱ほど時間かかります）\n",
        "- `export PATH=$HOME/.cargo/bin:$PATH`が効かないのでPythonでやってます\n",
        "- ジェネレータを使うために nightly にしてます（nightly機能は不安定なので，以下のコードがそのままでは動かなくなる可能性大です．2025年6月には動いてました．）"
      ],
      "metadata": {
        "id": "okE_aU4Ut3py"
      }
    },
    {
      "cell_type": "code",
      "source": [],
      "metadata": {
        "id": "guAYwx8iyskC"
      },
      "execution_count": null,
      "outputs": []
    },
    {
      "cell_type": "code",
      "source": [
        "!curl --proto '=https' --tlsv1.2 -sSf https://sh.rustup.rs | sh -s -- -y\n",
        "import os\n",
        "os.environ['PATH'] = f\"{os.environ['HOME']}/.cargo/bin:\" + os.environ['PATH']\n",
        "!rustup install nightly\n",
        "!rustup default nightly\n",
        "!rustc --version"
      ],
      "metadata": {
        "colab": {
          "base_uri": "https://localhost:8080/"
        },
        "id": "3aY0sM4rvVKm",
        "outputId": "0c0cf9b9-2ac7-472b-f6b8-b3c5057b6d38"
      },
      "execution_count": 13,
      "outputs": [
        {
          "output_type": "stream",
          "name": "stdout",
          "text": [
            "\u001b[1minfo:\u001b[0m downloading installer\n",
            "\u001b[0m\u001b[1m\u001b[33mwarn: \u001b[0mIt looks like you have an existing rustup settings file at:\n",
            "\u001b[0m\u001b[1m\u001b[33mwarn: \u001b[0m/root/.rustup/settings.toml\n",
            "\u001b[0m\u001b[1m\u001b[33mwarn: \u001b[0mRustup will install the default toolchain as specified in the settings file,\n",
            "\u001b[0m\u001b[1m\u001b[33mwarn: \u001b[0minstead of the one inferred from the default host triple.\n",
            "\u001b[0m\u001b[1minfo: \u001b[0mprofile set to 'default'\n",
            "\u001b[0m\u001b[1minfo: \u001b[0mdefault host triple is x86_64-unknown-linux-gnu\n",
            "\u001b[0m\u001b[1m\u001b[33mwarn: \u001b[0mUpdating existing toolchain, profile choice will be ignored\n",
            "\u001b[0m\u001b[1minfo: \u001b[0msyncing channel updates for 'nightly-x86_64-unknown-linux-gnu'\n",
            "\u001b[0m\u001b[1minfo: \u001b[0mdefault toolchain set to 'nightly-x86_64-unknown-linux-gnu'\n",
            "\n",
            "  \u001b[0m\u001b[1mnightly-x86_64-unknown-linux-gnu unchanged\u001b[0m - rustc 1.90.0-nightly (bdaba05a9 2025-06-27)\n",
            "\n",
            "\u001b[0m\u001b[1m\n",
            "Rust is installed now. Great!\n",
            "\u001b[0m\n",
            "To get started you may need to restart your current shell.\n",
            "This would reload your \u001b[0m\u001b[1mPATH\u001b[0m environment variable to include\n",
            "Cargo's bin directory ($HOME/.cargo/bin).\n",
            "\n",
            "To configure your current shell, you need to source\n",
            "the corresponding \u001b[0m\u001b[1menv\u001b[0m file under $HOME/.cargo.\n",
            "\n",
            "This is usually done by running one of the following (note the leading DOT):\n",
            ". \"$HOME/.cargo/env\"            # For sh/bash/zsh/ash/dash/pdksh\n",
            "source \"$HOME/.cargo/env.fish\"  # For fish\n",
            "source $\"($nu.home-path)/.cargo/env.nu\"  # For nushell\n",
            "\u001b[0m\u001b[1minfo: \u001b[0msyncing channel updates for 'nightly-x86_64-unknown-linux-gnu'\n",
            "\n",
            "  \u001b[0m\u001b[1mnightly-x86_64-unknown-linux-gnu unchanged\u001b[0m - rustc 1.90.0-nightly (bdaba05a9 2025-06-27)\n",
            "\n",
            "\u001b[0m\u001b[1minfo: \u001b[0mchecking for self-update\n",
            "\u001b[0m\u001b[1minfo: \u001b[0musing existing install for 'nightly-x86_64-unknown-linux-gnu'\n",
            "\u001b[0m\u001b[1minfo: \u001b[0mdefault toolchain set to 'nightly-x86_64-unknown-linux-gnu'\n",
            "\n",
            "  \u001b[0m\u001b[1mnightly-x86_64-unknown-linux-gnu unchanged\u001b[0m - rustc 1.90.0-nightly (bdaba05a9 2025-06-27)\n",
            "\n",
            "rustc 1.90.0-nightly (bdaba05a9 2025-06-27)\n"
          ]
        }
      ]
    },
    {
      "cell_type": "markdown",
      "source": [
        "ファイル `hello.rs` を作成する"
      ],
      "metadata": {
        "id": "9dE-eYgOyT69"
      }
    },
    {
      "cell_type": "code",
      "source": [
        "%%writefile hello.rs\n",
        "fn main() {\n",
        "    println!(\"Hello, world!\");\n",
        "}"
      ],
      "metadata": {
        "colab": {
          "base_uri": "https://localhost:8080/"
        },
        "id": "XeshDODNx0g5",
        "outputId": "7c8428cb-b692-47e5-de14-1734555c6aba"
      },
      "execution_count": null,
      "outputs": [
        {
          "output_type": "stream",
          "name": "stdout",
          "text": [
            "Writing hello.rs\n"
          ]
        }
      ]
    },
    {
      "cell_type": "markdown",
      "source": [
        "`hello.rs` をコンパイルして実行する"
      ],
      "metadata": {
        "id": "9mecpwibybBE"
      }
    },
    {
      "cell_type": "code",
      "source": [
        "!rustc hello.rs\n",
        "!./hello"
      ],
      "metadata": {
        "colab": {
          "base_uri": "https://localhost:8080/"
        },
        "id": "nsME2Qrgx2Le",
        "outputId": "e412973c-d32f-48c3-d6ce-4650e1483fc1"
      },
      "execution_count": null,
      "outputs": [
        {
          "output_type": "stream",
          "name": "stdout",
          "text": [
            "Hello, world!\n"
          ]
        }
      ]
    },
    {
      "cell_type": "markdown",
      "source": [
        "# Iterator"
      ],
      "metadata": {
        "id": "is8YZvYI5YGq"
      }
    },
    {
      "cell_type": "code",
      "source": [
        "%%writefile iterator.rs\n",
        "fn main() {\n",
        "    for i in 0..3 {\n",
        "        println!(\"{}\", i);\n",
        "    }\n",
        "}"
      ],
      "metadata": {
        "colab": {
          "base_uri": "https://localhost:8080/"
        },
        "id": "sKN0e15o6cRv",
        "outputId": "fd2cd9dc-ca0d-4a1c-d6ff-058640191582"
      },
      "execution_count": 5,
      "outputs": [
        {
          "output_type": "stream",
          "name": "stdout",
          "text": [
            "Writing iterator.rs\n"
          ]
        }
      ]
    },
    {
      "cell_type": "code",
      "source": [
        "!rustc iterator.rs\n",
        "!./iterator"
      ],
      "metadata": {
        "colab": {
          "base_uri": "https://localhost:8080/"
        },
        "id": "erEBxfq96vi2",
        "outputId": "83947558-6774-458b-9a26-16f54c136702"
      },
      "execution_count": 6,
      "outputs": [
        {
          "output_type": "stream",
          "name": "stdout",
          "text": [
            "0\n",
            "1\n",
            "2\n"
          ]
        }
      ]
    },
    {
      "cell_type": "markdown",
      "source": [
        "`0..3`はイテレータ．イテレータは`next()`を呼ぶと「次の値」をオプショナル型として返す．"
      ],
      "metadata": {
        "id": "KKm7t2e8-ur2"
      }
    },
    {
      "cell_type": "code",
      "source": [
        "%%writefile generator2.rs\n",
        "fn main() {\n",
        "   let mut iter = 0..3;\n",
        "   println!(\"{:?}\", iter.next()); // Some(0)\n",
        "   println!(\"{:?}\", iter.next()); // Some(1)\n",
        "   println!(\"{:?}\", iter.next()); // Some(2)\n",
        "   println!(\"{:?}\", iter.next()); // None\n",
        "}"
      ],
      "metadata": {
        "colab": {
          "base_uri": "https://localhost:8080/"
        },
        "id": "4_wFtChaCmv3",
        "outputId": "f2e8ddf6-7970-462f-ca46-730eb5bd8bfc"
      },
      "execution_count": 1,
      "outputs": [
        {
          "output_type": "stream",
          "name": "stdout",
          "text": [
            "Writing generator2.rs\n"
          ]
        }
      ]
    },
    {
      "cell_type": "code",
      "source": [
        "!rustc generator2.rs\n",
        "!./generator2"
      ],
      "metadata": {
        "colab": {
          "base_uri": "https://localhost:8080/"
        },
        "id": "d2SVplAuCvPA",
        "outputId": "de0a49e4-311a-4b3e-89f6-219a8c867bb4"
      },
      "execution_count": 4,
      "outputs": [
        {
          "output_type": "stream",
          "name": "stdout",
          "text": [
            "Some(0)\n",
            "Some(1)\n",
            "Some(2)\n",
            "None\n"
          ]
        }
      ]
    },
    {
      "cell_type": "markdown",
      "source": [
        "自分でもイテレータを定義できる．以下はCounterイテレータの定義例．途中でreturnして値を返して，次にnext()を呼ばれる時，イテレータ構造体の`count`の値が状態として保存されているので，順番にインクリメントされた値が返る．"
      ],
      "metadata": {
        "id": "5uH6AKePMh2w"
      }
    },
    {
      "cell_type": "code",
      "source": [
        "%%writefile counter.rs\n",
        "struct Counter {\n",
        "    count: usize,\n",
        "}\n",
        "impl Iterator for Counter {\n",
        "    type Item = usize;\n",
        "    fn next(&mut self) -> Option<usize> {\n",
        "        if self.count < 3 {\n",
        "            self.count += 1;\n",
        "            Some(self.count)\n",
        "        } else {\n",
        "            None\n",
        "        }\n",
        "    }\n",
        "}\n",
        "fn main() {\n",
        "    let mut counter = Counter {count: 0};\n",
        "    println!(\"{:?}\", counter.next ()); // Some(1)\n",
        "    println!(\"{:?}\", counter.next ()); // Some(2)\n",
        "    println!(\"{:?}\", counter.next ()); // Some(3)\n",
        "    println!(\"{:?}\", counter.next ()); // None\n",
        "}"
      ],
      "metadata": {
        "colab": {
          "base_uri": "https://localhost:8080/"
        },
        "id": "2JgEVBSEL0ns",
        "outputId": "52f32902-24c5-4c46-c31e-3f4d7321a587"
      },
      "execution_count": 9,
      "outputs": [
        {
          "output_type": "stream",
          "name": "stdout",
          "text": [
            "Overwriting counter.rs\n"
          ]
        }
      ]
    },
    {
      "cell_type": "code",
      "source": [
        "!rustc counter.rs\n",
        "!./counter"
      ],
      "metadata": {
        "colab": {
          "base_uri": "https://localhost:8080/"
        },
        "id": "4yHN5wPoL5wn",
        "outputId": "92118c0c-1bff-4332-dae6-1cb5e346a733"
      },
      "execution_count": 8,
      "outputs": [
        {
          "output_type": "stream",
          "name": "stdout",
          "text": [
            "Some(1)\n",
            "Some(2)\n",
            "Some(3)\n",
            "None\n"
          ]
        }
      ]
    },
    {
      "cell_type": "code",
      "source": [],
      "metadata": {
        "id": "uppi-DfYOzPN"
      },
      "execution_count": null,
      "outputs": []
    },
    {
      "cell_type": "markdown",
      "source": [
        "Iteratorの定義は↓こうなっている．\n",
        "```\n",
        "pub trait Iterator {\n",
        "    type Item;\n",
        "    fn next(&mut self) -> Option<Self::Item>;\n",
        "    // 他にもたくさん\n",
        "}\n",
        "```\n",
        "詳しくは[公式の説明](https://doc.rust-lang.org/std/iter/trait.Iterator.html)を見てね．"
      ],
      "metadata": {
        "id": "1Ds7oJKzObiZ"
      }
    },
    {
      "cell_type": "markdown",
      "source": [
        "# Generator (Coroutine)"
      ],
      "metadata": {
        "id": "5N6Q-r5V4Wif"
      }
    },
    {
      "cell_type": "code",
      "source": [
        "%%writefile generator.rs\n",
        "#![feature(coroutines, coroutine_trait)]\n",
        "#![feature(stmt_expr_attributes)]\n",
        "use std::pin::Pin;\n",
        "use std::ops::{Coroutine};\n",
        "fn main() {\n",
        "    let mut coro = #[coroutine] || {\n",
        "        println!(\"Start\");\n",
        "        yield 1;\n",
        "        println!(\"Middle\");\n",
        "        yield 2;\n",
        "        println!(\"End\");\n",
        "        return 3;\n",
        "    };\n",
        "    let mut coro = Pin::new(&mut coro);\n",
        "    println!(\"{:?}\", coro.as_mut().resume(())); // Yielded(1)\n",
        "    println!(\"{:?}\", coro.as_mut().resume(())); // Yielded(2)\n",
        "    println!(\"{:?}\", coro.as_mut().resume(())); // Complete(3)\n",
        "}"
      ],
      "metadata": {
        "colab": {
          "base_uri": "https://localhost:8080/"
        },
        "id": "vedWD9dW4pn4",
        "outputId": "03d58dfe-afa2-4ecc-ab24-13b7eebaf231"
      },
      "execution_count": 14,
      "outputs": [
        {
          "output_type": "stream",
          "name": "stdout",
          "text": [
            "Overwriting generator.rs\n"
          ]
        }
      ]
    },
    {
      "cell_type": "code",
      "source": [
        "!rustc generator.rs\n",
        "!./generator"
      ],
      "metadata": {
        "colab": {
          "base_uri": "https://localhost:8080/"
        },
        "id": "xhbUHisW4ySm",
        "outputId": "45fa9679-46eb-4836-e3e8-959c5d8e9e3f"
      },
      "execution_count": 15,
      "outputs": [
        {
          "output_type": "stream",
          "name": "stdout",
          "text": [
            "Start\n",
            "Yielded(1)\n",
            "Middle\n",
            "Yielded(2)\n",
            "End\n",
            "Complete(3)\n"
          ]
        }
      ]
    },
    {
      "cell_type": "code",
      "source": [],
      "metadata": {
        "id": "uOobU1cYrAdJ"
      },
      "execution_count": null,
      "outputs": []
    },
    {
      "cell_type": "code",
      "source": [],
      "metadata": {
        "id": "_xpPPxlJlChq"
      },
      "execution_count": null,
      "outputs": []
    },
    {
      "cell_type": "markdown",
      "source": [
        "ジェネレータ（コルーチン）とは\n",
        "- 状態を保存して途中で一時停止(yield)して値を返し，後から再開(resume)できる関数（コルーチン）\n",
        "- 上記の例では`yield 1;`で値1を返すと，次に`resume`された時に「`yield 1;`の直後」から実行が再開される\n",
        "- ジェネレータでは`yield`を使えるが，イテレータでは使えない\n",
        "- 現在，ジェネレータは非推奨機能であり，`async/await`を使うことが推奨されている（なじぇ！？→自己参照でunsafeになるので`async/await`で抽象化（隠蔽）したいらしい）"
      ],
      "metadata": {
        "id": "xlY1zN_3grUk"
      }
    },
    {
      "cell_type": "markdown",
      "source": [
        "ジェネレータとイテレータの主な違い：\n",
        "\n",
        "| 観点           | イテレータ（`Iterator`）                  | ジェネレータ（`Coroutine` / 旧 `Generator`）                   |   |                                     |\n",
        "| ------------ | ---------------------------------- | ----------------------------------------------------- | - | ----------------------------------- |\n",
        "| 定義方法         | `struct` + `impl Iterator for ...` | \\`let g =                                             \\|\\| { yield ...; return ... };\\`（クロージャ） |\n",
        "| トレイト名        | `Iterator`                         | `Coroutine`（以前は `Generator`）                          |   |                                     |\n",
        "| メソッド名        | `next()`                           | `resume(arg)`                                         |   |                                     |\n",
        "| 戻り値の型        | `Option<T>`                        | `CoroutineState<Y, R>` (`Yielded(Y)` / `Complete(R)`) |   |                                     |\n",
        "| 状態の保存        | ユーザーが構造体で管理する                      | Rust ランタイムが自動的に状態（中断点）を保存                             |   |                                     |\n",
        "| 停止と再開        | 自前で実装（ループ・分岐）                      | `yield` と `resume` による自動停止・再開                         |   |                                     |\n",
        "| 双方向通信（値の送受信） | 基本不可（値を返すだけ）                       | `resume(arg)` → `yield` で双方向通信可能                      |   |                                     |\n",
        "| 実装の容易さ       | 明示的なステートマシンを書く必要がある                | `yield` を書くだけで状態機械を自動生成できる                            |   |                                     |\n",
        "| 安定性          | ✅ 安定版で使える                          | 🚧 Nightly 限定。`#![feature(coroutines)]` 必須            |   |                                     |\n",
        "| 用途           | イテレーション（for文など）                    | 複雑な制御・状態遷移・非同期処理の構築など                                 |   |                                     |\n"
      ],
      "metadata": {
        "id": "rIvySEaEgGDL"
      }
    },
    {
      "cell_type": "markdown",
      "source": [],
      "metadata": {
        "id": "f_0Z7Z7p4o8L"
      }
    },
    {
      "cell_type": "markdown",
      "source": [
        "# Future"
      ],
      "metadata": {
        "id": "5hqb7sAo3L9_"
      }
    }
  ]
}